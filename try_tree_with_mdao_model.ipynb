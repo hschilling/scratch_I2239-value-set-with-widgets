{
 "cells": [
  {
   "cell_type": "code",
   "execution_count": 18,
   "metadata": {},
   "outputs": [
    {
     "name": "stdout",
     "output_type": "stream",
     "text": [
      "11 Input(s) in 'model'\n",
      "\n",
      "varname   val  \n",
      "--------  -----\n",
      "cycle\n",
      "  d1\n",
      "    z     |0.0|\n",
      "  d2\n",
      "    z     |0.0|\n",
      "obj_cmp\n",
      "  z       |0.0|\n",
      "cycle\n",
      "  d1\n",
      "    x     [0.] \n",
      "obj_cmp\n",
      "  x       [0.] \n",
      "cycle\n",
      "  d1\n",
      "    y2    [1.] \n",
      "obj_cmp\n",
      "  y2      [1.] \n",
      "con_cmp2\n",
      "  y2      [1.] \n",
      "cycle\n",
      "  d2\n",
      "    y1    [1.] \n",
      "obj_cmp\n",
      "  y1      [1.] \n",
      "con_cmp1\n",
      "  y1      [1.] \n",
      "\n",
      "\n"
     ]
    },
    {
     "data": {
      "text/plain": [
       "[('cycle.d1.z', {'val': array([0., 0.])}),\n",
       " ('cycle.d2.z', {'val': array([0., 0.])}),\n",
       " ('obj_cmp.z', {'val': array([0., 0.])}),\n",
       " ('cycle.d1.x', {'val': array([0.])}),\n",
       " ('obj_cmp.x', {'val': array([0.])}),\n",
       " ('cycle.d1.y2', {'val': array([1.])}),\n",
       " ('obj_cmp.y2', {'val': array([1.])}),\n",
       " ('con_cmp2.y2', {'val': array([1.])}),\n",
       " ('cycle.d2.y1', {'val': array([1.])}),\n",
       " ('obj_cmp.y1', {'val': array([1.])}),\n",
       " ('con_cmp1.y1', {'val': array([1.])})]"
      ]
     },
     "execution_count": 18,
     "metadata": {},
     "output_type": "execute_result"
    }
   ],
   "source": [
    "import openmdao.api as om\n",
    "from openmdao.test_suite.components.sellar_feature import SellarMDA\n",
    "prob = om.Problem()\n",
    "prob.model = SellarMDA()\n",
    "prob.driver = om.ScipyOptimizeDriver(optimizer='SLSQP', tol=1e-8)\n",
    "\n",
    "prob.model.add_design_var('x', lower=0, upper=10)\n",
    "prob.model.add_design_var('z', lower=0, upper=10)\n",
    "prob.model.add_objective('obj')\n",
    "prob.model.add_constraint('con1', upper=0)\n",
    "prob.model.add_constraint('con2', upper=0)\n",
    "\n",
    "# Ask OpenMDAO to finite-difference across the model to compute the gradients for the optimizer\n",
    "prob.model.approx_totals()\n",
    "\n",
    "prob.setup()\n",
    "prob.model.list_inputs()"
   ]
  },
  {
   "cell_type": "code",
   "execution_count": 16,
   "metadata": {},
   "outputs": [],
   "source": [
    "from ipytree import Tree, Node\n",
    "from ipywidgets import Button, Label, FloatText, HBox, VBox, Text, Output, Layout\n",
    "from ipywidgets import interact, interactive, fixed, interact_manual\n",
    "import ipywidgets as widgets\n",
    "\n"
   ]
  },
  {
   "cell_type": "code",
   "execution_count": 30,
   "metadata": {},
   "outputs": [
    {
     "data": {
      "application/vnd.jupyter.widget-view+json": {
       "model_id": "f267445d6e0644eda25757eeab2bf17f",
       "version_major": 2,
       "version_minor": 0
      },
      "text/plain": [
       "Tree(nodes=(Node(name='', nodes=(Node(name='cycle', nodes=(Node(name='d1', nodes=(Node(name='z'), Node(name='x…"
      ]
     },
     "metadata": {},
     "output_type": "display_data"
    }
   ],
   "source": [
    "from openmdao.core.component import Component\n",
    "def system_iter(sys, node):\n",
    "    if sys.name == '_auto_ivc':\n",
    "        return\n",
    "    name = sys.name if sys.name else 'root'\n",
    "    new_node = Node(sys.name)\n",
    "    node.add_node(new_node)\n",
    "\n",
    "    if isinstance(sys, Component):\n",
    "        inputs = list(sys._var_allprocs_prom2abs_list['input'].keys())\n",
    "    #     print(sys.name, inputs)\n",
    "        for input in inputs:\n",
    "            input_node = Node(input)\n",
    "            new_node.add_node(input_node)\n",
    "    else:\n",
    "        for s in sys._subsystems_myproc:\n",
    "            system_iter(s, new_node)\n",
    "tree = Tree(stripes=True, multiple_selection=True)\n",
    "system_iter(prob.model, tree)\n",
    "tree"
   ]
  },
  {
   "cell_type": "code",
   "execution_count": 15,
   "metadata": {},
   "outputs": [
    {
     "name": "stdout",
     "output_type": "stream",
     "text": [
      "11 Input(s) in 'model'\n"
     ]
    },
    {
     "data": {
      "text/html": [
       "<table>\n",
       "<thead>\n",
       "<tr><th style=\"text-align: center;\">  varname  </th><th style=\"text-align: center;\">  val  </th></tr>\n",
       "</thead>\n",
       "<tbody>\n",
       "<tr><td style=\"text-align: center;\">cycle.d1.z </td><td style=\"text-align: center;\">[0. 0.]</td></tr>\n",
       "<tr><td style=\"text-align: center;\">cycle.d2.z </td><td style=\"text-align: center;\">[0. 0.]</td></tr>\n",
       "<tr><td style=\"text-align: center;\"> obj_cmp.z </td><td style=\"text-align: center;\">[0. 0.]</td></tr>\n",
       "<tr><td style=\"text-align: center;\">cycle.d1.x </td><td style=\"text-align: center;\"> [0.]  </td></tr>\n",
       "<tr><td style=\"text-align: center;\"> obj_cmp.x </td><td style=\"text-align: center;\"> [0.]  </td></tr>\n",
       "<tr><td style=\"text-align: center;\">cycle.d1.y2</td><td style=\"text-align: center;\"> [1.]  </td></tr>\n",
       "<tr><td style=\"text-align: center;\">obj_cmp.y2 </td><td style=\"text-align: center;\"> [1.]  </td></tr>\n",
       "<tr><td style=\"text-align: center;\">con_cmp2.y2</td><td style=\"text-align: center;\"> [1.]  </td></tr>\n",
       "<tr><td style=\"text-align: center;\">cycle.d2.y1</td><td style=\"text-align: center;\"> [1.]  </td></tr>\n",
       "<tr><td style=\"text-align: center;\">obj_cmp.y1 </td><td style=\"text-align: center;\"> [1.]  </td></tr>\n",
       "<tr><td style=\"text-align: center;\">con_cmp1.y1</td><td style=\"text-align: center;\"> [1.]  </td></tr>\n",
       "</tbody>\n",
       "</table>"
      ],
      "text/plain": [
       "<IPython.core.display.HTML object>"
      ]
     },
     "metadata": {},
     "output_type": "display_data"
    },
    {
     "name": "stdout",
     "output_type": "stream",
     "text": [
      "5 Input(s) in 'cycle'\n"
     ]
    },
    {
     "data": {
      "text/html": [
       "<table>\n",
       "<thead>\n",
       "<tr><th style=\"text-align: center;\">  varname  </th><th style=\"text-align: center;\">  val  </th></tr>\n",
       "</thead>\n",
       "<tbody>\n",
       "<tr><td style=\"text-align: center;\">cycle.d1.z </td><td style=\"text-align: center;\">[0. 0.]</td></tr>\n",
       "<tr><td style=\"text-align: center;\">cycle.d2.z </td><td style=\"text-align: center;\">[0. 0.]</td></tr>\n",
       "<tr><td style=\"text-align: center;\">cycle.d1.x </td><td style=\"text-align: center;\"> [0.]  </td></tr>\n",
       "<tr><td style=\"text-align: center;\">cycle.d1.y2</td><td style=\"text-align: center;\"> [1.]  </td></tr>\n",
       "<tr><td style=\"text-align: center;\">cycle.d2.y1</td><td style=\"text-align: center;\"> [1.]  </td></tr>\n",
       "</tbody>\n",
       "</table>"
      ],
      "text/plain": [
       "<IPython.core.display.HTML object>"
      ]
     },
     "metadata": {},
     "output_type": "display_data"
    },
    {
     "name": "stdout",
     "output_type": "stream",
     "text": [
      "3 Input(s) in 'cycle.d1'\n"
     ]
    },
    {
     "data": {
      "text/html": [
       "<table>\n",
       "<thead>\n",
       "<tr><th style=\"text-align: center;\">  varname  </th><th style=\"text-align: center;\">  val  </th></tr>\n",
       "</thead>\n",
       "<tbody>\n",
       "<tr><td style=\"text-align: center;\">cycle.d1.z </td><td style=\"text-align: center;\">[0. 0.]</td></tr>\n",
       "<tr><td style=\"text-align: center;\">cycle.d1.x </td><td style=\"text-align: center;\"> [0.]  </td></tr>\n",
       "<tr><td style=\"text-align: center;\">cycle.d1.y2</td><td style=\"text-align: center;\"> [1.]  </td></tr>\n",
       "</tbody>\n",
       "</table>"
      ],
      "text/plain": [
       "<IPython.core.display.HTML object>"
      ]
     },
     "metadata": {},
     "output_type": "display_data"
    },
    {
     "name": "stdout",
     "output_type": "stream",
     "text": [
      "2 Input(s) in 'cycle.d2'\n"
     ]
    },
    {
     "data": {
      "text/html": [
       "<table>\n",
       "<thead>\n",
       "<tr><th style=\"text-align: center;\">  varname  </th><th style=\"text-align: center;\">  val  </th></tr>\n",
       "</thead>\n",
       "<tbody>\n",
       "<tr><td style=\"text-align: center;\">cycle.d2.z </td><td style=\"text-align: center;\">[0. 0.]</td></tr>\n",
       "<tr><td style=\"text-align: center;\">cycle.d2.y1</td><td style=\"text-align: center;\"> [1.]  </td></tr>\n",
       "</tbody>\n",
       "</table>"
      ],
      "text/plain": [
       "<IPython.core.display.HTML object>"
      ]
     },
     "metadata": {},
     "output_type": "display_data"
    },
    {
     "name": "stdout",
     "output_type": "stream",
     "text": [
      "4 Input(s) in 'obj_cmp'\n"
     ]
    },
    {
     "data": {
      "text/html": [
       "<table>\n",
       "<thead>\n",
       "<tr><th style=\"text-align: center;\"> varname  </th><th style=\"text-align: center;\">  val  </th></tr>\n",
       "</thead>\n",
       "<tbody>\n",
       "<tr><td style=\"text-align: center;\">obj_cmp.x </td><td style=\"text-align: center;\"> [0.]  </td></tr>\n",
       "<tr><td style=\"text-align: center;\">obj_cmp.y1</td><td style=\"text-align: center;\"> [1.]  </td></tr>\n",
       "<tr><td style=\"text-align: center;\">obj_cmp.y2</td><td style=\"text-align: center;\"> [1.]  </td></tr>\n",
       "<tr><td style=\"text-align: center;\">obj_cmp.z </td><td style=\"text-align: center;\">[0. 0.]</td></tr>\n",
       "</tbody>\n",
       "</table>"
      ],
      "text/plain": [
       "<IPython.core.display.HTML object>"
      ]
     },
     "metadata": {},
     "output_type": "display_data"
    },
    {
     "name": "stdout",
     "output_type": "stream",
     "text": [
      "1 Input(s) in 'con_cmp1'\n"
     ]
    },
    {
     "data": {
      "text/html": [
       "<table>\n",
       "<thead>\n",
       "<tr><th style=\"text-align: center;\">  varname  </th><th style=\"text-align: center;\"> val </th></tr>\n",
       "</thead>\n",
       "<tbody>\n",
       "<tr><td style=\"text-align: center;\">con_cmp1.y1</td><td style=\"text-align: center;\">  1  </td></tr>\n",
       "</tbody>\n",
       "</table>"
      ],
      "text/plain": [
       "<IPython.core.display.HTML object>"
      ]
     },
     "metadata": {},
     "output_type": "display_data"
    },
    {
     "name": "stdout",
     "output_type": "stream",
     "text": [
      "1 Input(s) in 'con_cmp2'\n"
     ]
    },
    {
     "data": {
      "text/html": [
       "<table>\n",
       "<thead>\n",
       "<tr><th style=\"text-align: center;\">  varname  </th><th style=\"text-align: center;\"> val </th></tr>\n",
       "</thead>\n",
       "<tbody>\n",
       "<tr><td style=\"text-align: center;\">con_cmp2.y2</td><td style=\"text-align: center;\">  1  </td></tr>\n",
       "</tbody>\n",
       "</table>"
      ],
      "text/plain": [
       "<IPython.core.display.HTML object>"
      ]
     },
     "metadata": {},
     "output_type": "display_data"
    }
   ],
   "source": [
    "for system in prob.model.system_iter(include_self=True, recurse=True):\n",
    "    system.list_inputs(hierarchical=False)\n",
    "    \n",
    "# #     inputs = system.get_io_metadata(('input',))\n",
    "# #     outputs = system.get_io_metadata(('input',))\n",
    "# #     print(inputs)\n",
    "# #     print(system.name, ':', system._var_allprocs_prom2abs_list['output'], '\\n')\n",
    "#     print(system.name, ':', list(system._var_allprocs_prom2abs_list['output'].keys()), '\\n')"
   ]
  },
  {
   "cell_type": "code",
   "execution_count": null,
   "metadata": {},
   "outputs": [],
   "source": []
  }
 ],
 "metadata": {
  "kernelspec": {
   "display_name": "Python [conda env:py38mpi4] *",
   "language": "python",
   "name": "conda-env-py38mpi4-py"
  },
  "language_info": {
   "codemirror_mode": {
    "name": "ipython",
    "version": 3
   },
   "file_extension": ".py",
   "mimetype": "text/x-python",
   "name": "python",
   "nbconvert_exporter": "python",
   "pygments_lexer": "ipython3",
   "version": "3.8.5"
  }
 },
 "nbformat": 4,
 "nbformat_minor": 4
}
