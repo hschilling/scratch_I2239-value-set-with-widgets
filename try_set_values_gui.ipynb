{
 "cells": [
  {
   "cell_type": "code",
   "execution_count": 1,
   "metadata": {},
   "outputs": [],
   "source": [
    "from openmdao.visualization.set_values_gui.set_values_gui import SetValuesUI"
   ]
  },
  {
   "cell_type": "code",
   "execution_count": 2,
   "metadata": {},
   "outputs": [],
   "source": [
    "import openmdao.api as om"
   ]
  },
  {
   "cell_type": "code",
   "execution_count": 3,
   "metadata": {},
   "outputs": [],
   "source": [
    "%load_ext autoreload\n",
    "%autoreload 2"
   ]
  },
  {
   "cell_type": "code",
   "execution_count": 4,
   "metadata": {},
   "outputs": [
    {
     "data": {
      "text/plain": [
       "<module 'openmdao.visualization.set_values_gui.set_values_gui' from '/Users/hschilli/Documents/OpenMDAO/dev/I2239-value-set-with-widgets/openmdao/visualization/set_values_gui/set_values_gui.py'>"
      ]
     },
     "execution_count": 4,
     "metadata": {},
     "output_type": "execute_result"
    }
   ],
   "source": [
    "import importlib\n",
    "import openmdao.visualization.set_values_gui.set_values_gui\n",
    "importlib.reload(openmdao.visualization.set_values_gui.set_values_gui)"
   ]
  },
  {
   "cell_type": "code",
   "execution_count": 5,
   "metadata": {},
   "outputs": [],
   "source": [
    "from openmdao.test_suite.components.sellar_feature import SellarMDA\n",
    "prob = om.Problem()\n",
    "prob.model = SellarMDA()\n",
    "\n",
    "prob.model.set_input_defaults('x', val=1., units='m')\n",
    "\n",
    "\n",
    "prob.driver = om.ScipyOptimizeDriver(optimizer='SLSQP', tol=1e-8)\n",
    "\n",
    "prob.model.add_design_var('x', lower=0, upper=10)\n",
    "prob.model.add_design_var('z', lower=0, upper=10)\n",
    "prob.model.add_objective('obj')\n",
    "prob.model.add_constraint('con1', upper=0)\n",
    "prob.model.add_constraint('con2', upper=0)\n",
    "\n",
    "# Ask OpenMDAO to finite-difference across the model to compute the gradients for the optimizer\n",
    "prob.model.approx_totals()\n",
    "\n",
    "# prob['y2'] = 3.4"
   ]
  },
  {
   "cell_type": "code",
   "execution_count": 6,
   "metadata": {},
   "outputs": [
    {
     "name": "stderr",
     "output_type": "stream",
     "text": [
      "/Users/hschilli/Documents/OpenMDAO/dev/I2239-value-set-with-widgets/openmdao/core/group.py:1933: UnitsWarning:<model> <class SellarMDA>: Output '_auto_ivc.v1' with units of 'm' is connected to input 'cycle.d1.x' which has no units.\n",
      "/Users/hschilli/Documents/OpenMDAO/dev/I2239-value-set-with-widgets/openmdao/core/group.py:1933: UnitsWarning:<model> <class SellarMDA>: Output '_auto_ivc.v1' with units of 'm' is connected to input 'obj_cmp.x' which has no units.\n"
     ]
    },
    {
     "data": {
      "text/plain": [
       "<openmdao.core.problem.Problem at 0x7fd77be43250>"
      ]
     },
     "execution_count": 6,
     "metadata": {},
     "output_type": "execute_result"
    }
   ],
   "source": [
    "prob.setup()"
   ]
  },
  {
   "cell_type": "code",
   "execution_count": 7,
   "metadata": {},
   "outputs": [
    {
     "name": "stdout",
     "output_type": "stream",
     "text": [
      "setup with autoreload 2 Output(layout=Layout(border='1px solid black', width='60%'))\n"
     ]
    }
   ],
   "source": [
    "ui = SetValuesUI(prob, vars_to_set=['x','z', 'y2'])\n",
    "ui.setup()"
   ]
  },
  {
   "cell_type": "code",
   "execution_count": 8,
   "metadata": {},
   "outputs": [
    {
     "data": {
      "text/plain": [
       "{'cycle.d1.z': {'units': None, 'prom_name': 'z', 'discrete': True},\n",
       " 'cycle.d2.z': {'units': None, 'prom_name': 'z', 'discrete': True},\n",
       " 'obj_cmp.z': {'units': None, 'prom_name': 'z', 'discrete': True},\n",
       " 'cycle.d1.x': {'units': None, 'prom_name': 'x', 'discrete': True},\n",
       " 'obj_cmp.x': {'units': None, 'prom_name': 'x', 'discrete': True},\n",
       " 'cycle.d1.y2': {'units': None, 'prom_name': 'y2', 'discrete': True},\n",
       " 'obj_cmp.y2': {'units': None, 'prom_name': 'y2', 'discrete': True},\n",
       " 'con_cmp2.y2': {'units': None, 'prom_name': 'y2', 'discrete': True},\n",
       " 'cycle.d2.y1': {'units': None, 'prom_name': 'y1', 'discrete': True},\n",
       " 'obj_cmp.y1': {'units': None, 'prom_name': 'y1', 'discrete': True},\n",
       " 'con_cmp1.y1': {'units': None, 'prom_name': 'y1', 'discrete': True}}"
      ]
     },
     "execution_count": 8,
     "metadata": {},
     "output_type": "execute_result"
    }
   ],
   "source": [
    "prob.model.get_io_metadata(('input',), ['units', ],\n",
    "                                     get_remote=True,\n",
    "                                     return_rel_names=False)"
   ]
  },
  {
   "cell_type": "code",
   "execution_count": 9,
   "metadata": {},
   "outputs": [
    {
     "data": {
      "application/vnd.jupyter.widget-view+json": {
       "model_id": "3a3576fa724c49f6a300ac516b6e3256",
       "version_major": 2,
       "version_minor": 0
      },
      "text/plain": [
       "HBox(children=(Tree(layout=Layout(border='1px solid black', width='30%'), nodes=(Node(icon='envelope-open', na…"
      ]
     },
     "metadata": {},
     "output_type": "display_data"
    }
   ],
   "source": [
    "ui.display()"
   ]
  },
  {
   "cell_type": "code",
   "execution_count": null,
   "metadata": {},
   "outputs": [],
   "source": []
  },
  {
   "cell_type": "code",
   "execution_count": 10,
   "metadata": {},
   "outputs": [
    {
     "data": {
      "text/plain": [
       "array([1.])"
      ]
     },
     "execution_count": 10,
     "metadata": {},
     "output_type": "execute_result"
    }
   ],
   "source": [
    "prob['y1']"
   ]
  },
  {
   "cell_type": "code",
   "execution_count": 11,
   "metadata": {},
   "outputs": [],
   "source": [
    "# prob.run_driver()"
   ]
  },
  {
   "cell_type": "code",
   "execution_count": 12,
   "metadata": {},
   "outputs": [
    {
     "data": {
      "text/plain": [
       "<openmdao.core.problem.Problem at 0x7fd77c00cc10>"
      ]
     },
     "execution_count": 12,
     "metadata": {},
     "output_type": "execute_result"
    }
   ],
   "source": [
    "class SpeedComp(om.ExplicitComponent):\n",
    "    \"\"\"Simple speed computation from distance and time with unit conversations.\"\"\"\n",
    "\n",
    "    def setup(self):\n",
    "        self.add_input('distance', val=1.0, units='km')\n",
    "        self.add_input('time', val=1.0, units='h')\n",
    "        self.add_output('speed', val=1.0, units='km/h')\n",
    "\n",
    "    def compute(self, inputs, outputs):\n",
    "        outputs['speed'] = inputs['distance'] / inputs['time']\n",
    "prob = om.Problem()\n",
    "prob.model.add_subsystem('c1', SpeedComp(), promotes=['*'])\n",
    "prob.model.add_subsystem('c2', om.ExecComp('f=speed',speed={'units': 'm/s'}), promotes=['*'])\n",
    "\n",
    "prob.model.set_input_defaults('distance', val=1., units='m')\n",
    "prob.model.set_input_defaults('time', val=1., units='s')\n",
    "\n",
    "# prob.model.connect('c1.speed', 'speed')\n",
    "\n",
    "prob.setup()\n"
   ]
  },
  {
   "cell_type": "code",
   "execution_count": 13,
   "metadata": {},
   "outputs": [
    {
     "name": "stdout",
     "output_type": "stream",
     "text": [
      "setup with autoreload 2 Output(layout=Layout(border='1px solid black', width='60%'))\n"
     ]
    }
   ],
   "source": [
    "ui = SetValuesUI(prob, vars_to_set=['time', 'speed'])\n",
    "ui.setup()"
   ]
  },
  {
   "cell_type": "code",
   "execution_count": 14,
   "metadata": {},
   "outputs": [
    {
     "data": {
      "application/vnd.jupyter.widget-view+json": {
       "model_id": "b410593461f748deb724ae8be9756fd5",
       "version_major": 2,
       "version_minor": 0
      },
      "text/plain": [
       "HBox(children=(Tree(layout=Layout(border='1px solid black', width='30%'), nodes=(Node(icon='envelope-open', na…"
      ]
     },
     "metadata": {},
     "output_type": "display_data"
    }
   ],
   "source": [
    "ui.display()"
   ]
  },
  {
   "cell_type": "code",
   "execution_count": 15,
   "metadata": {},
   "outputs": [
    {
     "name": "stdout",
     "output_type": "stream",
     "text": [
      "3 Input(s) in 'model'\n",
      "\n",
      "varname     val \n",
      "----------  ----\n",
      "c1\n",
      "  distance  [1.]\n",
      "  time      [1.]\n",
      "c2\n",
      "  speed     [1.]\n",
      "\n",
      "\n"
     ]
    },
    {
     "data": {
      "text/plain": [
       "[('c1.distance', {'val': array([1.])}),\n",
       " ('c1.time', {'val': array([1.])}),\n",
       " ('c2.speed', {'val': array([1.])})]"
      ]
     },
     "execution_count": 15,
     "metadata": {},
     "output_type": "execute_result"
    }
   ],
   "source": [
    "prob.model.list_inputs()"
   ]
  },
  {
   "cell_type": "code",
   "execution_count": 16,
   "metadata": {},
   "outputs": [
    {
     "data": {
      "text/plain": [
       "array([1.])"
      ]
     },
     "execution_count": 16,
     "metadata": {},
     "output_type": "execute_result"
    }
   ],
   "source": [
    "prob['c1.distance']"
   ]
  },
  {
   "cell_type": "code",
   "execution_count": null,
   "metadata": {},
   "outputs": [],
   "source": []
  }
 ],
 "metadata": {
  "kernelspec": {
   "display_name": "Python [conda env:py38mpi4] *",
   "language": "python",
   "name": "conda-env-py38mpi4-py"
  },
  "language_info": {
   "codemirror_mode": {
    "name": "ipython",
    "version": 3
   },
   "file_extension": ".py",
   "mimetype": "text/x-python",
   "name": "python",
   "nbconvert_exporter": "python",
   "pygments_lexer": "ipython3",
   "version": "3.8.5"
  }
 },
 "nbformat": 4,
 "nbformat_minor": 4
}
