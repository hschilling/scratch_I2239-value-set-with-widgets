{
 "cells": [
  {
   "cell_type": "code",
   "execution_count": 1,
   "metadata": {},
   "outputs": [
    {
     "name": "stdout",
     "output_type": "stream",
     "text": [
      "[5. 2.]\n"
     ]
    }
   ],
   "source": [
    "import openmdao.api as om\n",
    "from openmdao.test_suite.components.sellar_feature import SellarMDA\n",
    "prob = om.Problem()\n",
    "prob.model = SellarMDA()\n",
    "prob.driver = om.ScipyOptimizeDriver(optimizer='SLSQP', tol=1e-8)\n",
    "\n",
    "prob.model.add_design_var('x', lower=0, upper=10)\n",
    "prob.model.add_design_var('z', lower=0, upper=10)\n",
    "prob.model.add_objective('obj')\n",
    "prob.model.add_constraint('con1', upper=0)\n",
    "prob.model.add_constraint('con2', upper=0)\n",
    "\n",
    "# Ask OpenMDAO to finite-difference across the model to compute the gradients for the optimizer\n",
    "prob.model.approx_totals()\n",
    "\n",
    "prob.setup()\n",
    "print(prob['z'])"
   ]
  },
  {
   "cell_type": "code",
   "execution_count": 2,
   "metadata": {},
   "outputs": [],
   "source": [
    "import ipywidgets as widgets\n",
    "from openmdao.core.component import Component\n",
    "from ipytree import Tree, Node\n",
    "# from ipywidgets import Button, Label, FloatText, HBox, VBox, Text, Output, Layout\n",
    "from ipywidgets import Label, FloatText, HBox, VBox, Output, Layout, Button\n"
   ]
  },
  {
   "cell_type": "code",
   "execution_count": 3,
   "metadata": {},
   "outputs": [],
   "source": [
    "def set_vars_from_model(sys, node):\n",
    "    if sys.name == '_auto_ivc':\n",
    "        return\n",
    "    name = sys.name if sys.name else 'root'\n",
    "    new_node = Node(name)\n",
    "    \n",
    "    # can use any of these it looks like ! https://fontawesome.com/v5.15/icons?d=gallery&p=2&q=plus-&m=free\n",
    "#     new_node.closed_icon = 'envelope'\n",
    "#     new_node.open_icon = 'envelope-open'\n",
    "\n",
    "    \n",
    "    \n",
    "    node.add_node(new_node)\n",
    "\n",
    "    if isinstance(sys, Component):\n",
    "        inputs = list(sys._var_allprocs_prom2abs_list['input'].keys())\n",
    "        new_node.icon = 'plug'\n",
    "        for input in inputs:\n",
    "            input_node = Node(input)\n",
    "            input_node.icon = 'signal'\n",
    "            new_node.add_node(input_node)\n",
    "    else:\n",
    "        new_node.icon = 'envelope-open'\n",
    "        for s in sys._subsystems_myproc:\n",
    "            set_vars_from_model(s, new_node)"
   ]
  },
  {
   "cell_type": "code",
   "execution_count": 4,
   "metadata": {},
   "outputs": [],
   "source": [
    "def set_vars_from_user_input(vars_to_set, node):\n",
    "    for var in vars_to_set:\n",
    "        val_widgets.append(var)\n",
    "        val_widget = widgets.FloatText(\n",
    "            value=7.5,\n",
    "            description=var,\n",
    "            disabled=False\n",
    "        )\n",
    "        val_widget.observe(update_prob_val, 'value')\n",
    "        value_widget_box.children += (val_widget,)"
   ]
  },
  {
   "cell_type": "code",
   "execution_count": 5,
   "metadata": {},
   "outputs": [],
   "source": [
    "def set_value_in_tree(node, name, value):\n",
    "    current_node_name = node.name\n",
    "    # just get the part before the colon\n",
    "    actual_var_name = current_node_name.split(':')[0]\n",
    "    if name == actual_var_name:\n",
    "        node.name = f'{actual_var_name}: {value}'\n",
    "        return\n",
    "    for sub_node in node.nodes:\n",
    "        set_value_in_tree(sub_node, name, value)"
   ]
  },
  {
   "cell_type": "code",
   "execution_count": 6,
   "metadata": {},
   "outputs": [],
   "source": [
    "def update_prob_val(change):\n",
    "    prob[change['owner'].description] = change['new']\n",
    "    tree = widget.children[0]\n",
    "#     set_value_in_tree(tree.nodes[0], change['owner'].description, change['new'] )\n",
    "#     print(widget.children[0])\n",
    "    # find the tree item that goes with this description and update the label with the value"
   ]
  },
  {
   "cell_type": "code",
   "execution_count": 17,
   "metadata": {},
   "outputs": [],
   "source": [
    "output = Output(layout={'border': '1px solid black', 'width':'50%'})\n",
    "val_widgets = []\n",
    "value_widget_box = None\n",
    "\n",
    "@output.capture()\n",
    "def on_selected_change(change):\n",
    "    print(\"change\")\n",
    "    global value_widget_box\n",
    "#     print(change['new'][0], change['new'][0].selected)\n",
    "#     if change['new'][0].selected:\n",
    "#     print(\"change\", change)\n",
    "    change['new'][0].icon_style = 'warning'\n",
    "    if change['new'][0].name in val_widgets:\n",
    "        change['new'][0].selected = False\n",
    "        return\n",
    "    val_widgets.append(change['new'][0].name)\n",
    "    val_widget = widgets.FloatText(\n",
    "        value=7.5,\n",
    "        description=change['new'][0].name,\n",
    "        disabled=False\n",
    "    )\n",
    "    remove_button = Button(description=\"X\")\n",
    "    val_widget.observe(update_prob_val, 'value')\n",
    "    val_and_remove_widget = HBox([val_widget, remove_button])\n",
    "    value_widget_box.children += (val_and_remove_widget,)"
   ]
  },
  {
   "cell_type": "code",
   "execution_count": 18,
   "metadata": {},
   "outputs": [],
   "source": [
    "@output.capture()\n",
    "def select_vars_to_set(prob, vars_to_set = None):\n",
    "    global value_widget_box\n",
    "    tree = Tree(stripes=True, multiple_selection=True)\n",
    "    value_widget_box = VBox([Label(\"Model Variables\"),])\n",
    "#     for n in tree.nodes:\n",
    "#         print(n.name)\n",
    "    if vars_to_set:\n",
    "        set_vars_from_user_input(vars_to_set, tree)\n",
    "    else:\n",
    "        set_vars_from_model(prob.model, tree)\n",
    "    tree.observe(on_selected_change, names='selected_nodes')\n",
    "    widget = HBox([tree, value_widget_box, output])\n",
    "    return widget"
   ]
  },
  {
   "cell_type": "code",
   "execution_count": 21,
   "metadata": {},
   "outputs": [],
   "source": [
    "output.clear_output()"
   ]
  },
  {
   "cell_type": "code",
   "execution_count": 20,
   "metadata": {},
   "outputs": [
    {
     "data": {
      "application/vnd.jupyter.widget-view+json": {
       "model_id": "9808b076911349808201ccb88cbe180b",
       "version_major": 2,
       "version_minor": 0
      },
      "text/plain": [
       "HBox(children=(Tree(nodes=(Node(icon='envelope-open', name='root', nodes=(Node(icon='envelope-open', name='cyc…"
      ]
     },
     "metadata": {},
     "output_type": "display_data"
    }
   ],
   "source": [
    "widget = select_vars_to_set(prob)\n",
    "widget"
   ]
  },
  {
   "cell_type": "code",
   "execution_count": 11,
   "metadata": {},
   "outputs": [
    {
     "data": {
      "text/plain": [
       "array([5., 2.])"
      ]
     },
     "execution_count": 11,
     "metadata": {},
     "output_type": "execute_result"
    }
   ],
   "source": [
    "prob['z']"
   ]
  },
  {
   "cell_type": "code",
   "execution_count": 12,
   "metadata": {},
   "outputs": [
    {
     "data": {
      "text/plain": [
       "4"
      ]
     },
     "execution_count": 12,
     "metadata": {},
     "output_type": "execute_result"
    }
   ],
   "source": [
    "len(widget.children[0].nodes[0].nodes)"
   ]
  },
  {
   "cell_type": "code",
   "execution_count": 13,
   "metadata": {},
   "outputs": [
    {
     "data": {
      "application/vnd.jupyter.widget-view+json": {
       "model_id": "710759519938412a99f98c7781f3bec2",
       "version_major": 2,
       "version_minor": 0
      },
      "text/plain": [
       "HBox(children=(Tree(), VBox(children=(Label(value='Model Variables'), FloatText(value=7.5, description='x'), F…"
      ]
     },
     "metadata": {},
     "output_type": "display_data"
    }
   ],
   "source": [
    "widget = select_vars_to_set(prob, vars_to_set=['x', 'y'])\n",
    "widget"
   ]
  },
  {
   "cell_type": "code",
   "execution_count": 14,
   "metadata": {},
   "outputs": [
    {
     "data": {
      "text/plain": [
       "array([1.])"
      ]
     },
     "execution_count": 14,
     "metadata": {},
     "output_type": "execute_result"
    }
   ],
   "source": [
    "prob['x']"
   ]
  },
  {
   "cell_type": "code",
   "execution_count": 15,
   "metadata": {},
   "outputs": [],
   "source": [
    "# # removing a widget\n",
    "# remove = mybox.children[-1]\n",
    "# mybox.children = mybox.children[:-1]\n",
    "# remove.close()\n",
    "\n",
    "# widgets.Checkbox(\n",
    "#     value=False,\n",
    "#     description='Check me',\n",
    "#     disabled=False\n",
    "# )"
   ]
  },
  {
   "cell_type": "code",
   "execution_count": 16,
   "metadata": {},
   "outputs": [],
   "source": [
    "# def set_model_vars(prob, value_widget_box):\n",
    "#     for var_widget in value_widget_box.children[3:]:\n",
    "#         prob[var_widget.description] = var_widget.value"
   ]
  }
 ],
 "metadata": {
  "kernelspec": {
   "display_name": "Python [conda env:py38mpi4] *",
   "language": "python",
   "name": "conda-env-py38mpi4-py"
  },
  "language_info": {
   "codemirror_mode": {
    "name": "ipython",
    "version": 3
   },
   "file_extension": ".py",
   "mimetype": "text/x-python",
   "name": "python",
   "nbconvert_exporter": "python",
   "pygments_lexer": "ipython3",
   "version": "3.8.5"
  }
 },
 "nbformat": 4,
 "nbformat_minor": 4
}
