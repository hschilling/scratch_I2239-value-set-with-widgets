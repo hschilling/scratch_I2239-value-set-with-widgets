{
 "cells": [
  {
   "cell_type": "code",
   "execution_count": 1,
   "metadata": {},
   "outputs": [
    {
     "data": {
      "text/plain": [
       "<openmdao.core.problem.Problem at 0x7fd2361d6730>"
      ]
     },
     "execution_count": 1,
     "metadata": {},
     "output_type": "execute_result"
    }
   ],
   "source": [
    "import openmdao.api as om\n",
    "from openmdao.test_suite.components.sellar_feature import SellarMDA\n",
    "prob = om.Problem()\n",
    "prob.model = SellarMDA()\n",
    "prob.driver = om.ScipyOptimizeDriver(optimizer='SLSQP', tol=1e-8)\n",
    "\n",
    "prob.model.add_design_var('x', lower=0, upper=10)\n",
    "prob.model.add_design_var('z', lower=0, upper=10)\n",
    "prob.model.add_objective('obj')\n",
    "prob.model.add_constraint('con1', upper=0)\n",
    "prob.model.add_constraint('con2', upper=0)\n",
    "\n",
    "# Ask OpenMDAO to finite-difference across the model to compute the gradients for the optimizer\n",
    "prob.model.approx_totals()\n",
    "\n",
    "prob.setup()"
   ]
  },
  {
   "cell_type": "code",
   "execution_count": 2,
   "metadata": {},
   "outputs": [],
   "source": [
    "from ipytree import Tree, Node\n",
    "from ipywidgets import Button, Label, FloatText, HBox, VBox, Text, Output, Layout\n",
    "from ipywidgets import interact, interactive, fixed, interact_manual\n",
    "import ipywidgets as widgets"
   ]
  },
  {
   "cell_type": "code",
   "execution_count": 3,
   "metadata": {},
   "outputs": [],
   "source": [
    "from openmdao.core.component import Component\n",
    "def system_iter(sys, node):\n",
    "    if sys.name == '_auto_ivc':\n",
    "        return\n",
    "    name = sys.name if sys.name else 'root'\n",
    "    new_node = Node(name)\n",
    "    node.add_node(new_node)\n",
    "\n",
    "    if isinstance(sys, Component):\n",
    "        inputs = list(sys._var_allprocs_prom2abs_list['input'].keys())\n",
    "        for input in inputs:\n",
    "            input_node = Node(input)\n",
    "            new_node.add_node(input_node)\n",
    "    else:\n",
    "        for s in sys._subsystems_myproc:\n",
    "            system_iter(s, new_node)\n"
   ]
  },
  {
   "cell_type": "code",
   "execution_count": null,
   "metadata": {},
   "outputs": [],
   "source": [
    "label1 = widgets.Label('label')\n",
    "output2 = widgets.Output()\n",
    "\n",
    "display(label1, output2)\n",
    "\n",
    "def on_value_change(change):\n",
    "    with output2:\n",
    "        print(change['new'])\n",
    "\n",
    "int_range.observe(on_value_change, names='value')"
   ]
  },
  {
   "cell_type": "code",
   "execution_count": 4,
   "metadata": {},
   "outputs": [],
   "source": [
    "def update_prob_val(change):\n",
    "    with output2:\n",
    "        print(change['new'], change['owner'].description)\n",
    "    prob[change['owner'].description] = change['new']"
   ]
  },
  {
   "cell_type": "code",
   "execution_count": 5,
   "metadata": {},
   "outputs": [
    {
     "data": {
      "application/vnd.jupyter.widget-view+json": {
       "model_id": "3818c658e2fd4763b935cd8eb1c02ae9",
       "version_major": 2,
       "version_minor": 0
      },
      "text/plain": [
       "Output()"
      ]
     },
     "metadata": {},
     "output_type": "display_data"
    }
   ],
   "source": [
    "output2 = widgets.Output()\n",
    "display(output2)\n",
    "def on_selected_change(change):\n",
    "    with output2:\n",
    "        print(change['new'])\n",
    "        val_widget = widgets.FloatText(\n",
    "            value=7.5,\n",
    "            description=change['new'][0].name,\n",
    "            disabled=False\n",
    "        )\n",
    "        val_widget.observe(update_prob_val, 'value')\n",
    "        value_widget_box.children += (val_widget,)"
   ]
  },
  {
   "cell_type": "code",
   "execution_count": 14,
   "metadata": {},
   "outputs": [],
   "source": [
    "output = Output()\n",
    "\n",
    "@output.capture()\n",
    "def run_handler(change):\n",
    "    output.clear_output()\n",
    "    print('Running driver')\n",
    "    prob.run_driver()\n",
    "    prob.list_problem_vars()\n",
    "\n",
    "\n",
    "run_driver_button = Button(description='Run driver')\n",
    "run_driver_button.on_click(run_handler)"
   ]
  },
  {
   "cell_type": "code",
   "execution_count": 15,
   "metadata": {},
   "outputs": [],
   "source": [
    "\n",
    "value_widget_box = VBox([Label(\"Model Variables\"),run_driver_button])"
   ]
  },
  {
   "cell_type": "code",
   "execution_count": 16,
   "metadata": {},
   "outputs": [],
   "source": [
    "def select_vars_to_set_old(prob):\n",
    "    tree = Tree(stripes=True, multiple_selection=True)\n",
    "    system_iter(prob.model, tree)\n",
    "    tree.observe(on_selected_change, names='selected_nodes')\n",
    "    widget = HBox([tree, value_widget_box,output])\n",
    "    return widget"
   ]
  },
  {
   "cell_type": "code",
   "execution_count": 17,
   "metadata": {},
   "outputs": [
    {
     "data": {
      "application/vnd.jupyter.widget-view+json": {
       "model_id": "a7169a5dd48c43eaa8206dbcdaed2ef9",
       "version_major": 2,
       "version_minor": 0
      },
      "text/plain": [
       "HBox(children=(Tree(nodes=(Node(name='root', nodes=(Node(name='cycle', nodes=(Node(name='d1', nodes=(Node(name…"
      ]
     },
     "metadata": {},
     "output_type": "display_data"
    }
   ],
   "source": [
    "select_vars_to_set_old(prob)"
   ]
  },
  {
   "cell_type": "code",
   "execution_count": 22,
   "metadata": {},
   "outputs": [],
   "source": [
    "def set_model_vars(prob, value_widget_box):\n",
    "    for var_widget in value_widget_box.children[3:]:\n",
    "        prob[var_widget.description] = var_widget.value"
   ]
  },
  {
   "cell_type": "code",
   "execution_count": null,
   "metadata": {},
   "outputs": [],
   "source": [
    "set_model_vars(prob,value_widget_box)"
   ]
  },
  {
   "cell_type": "code",
   "execution_count": null,
   "metadata": {},
   "outputs": [],
   "source": [
    "prob['y2']"
   ]
  },
  {
   "cell_type": "code",
   "execution_count": 18,
   "metadata": {},
   "outputs": [],
   "source": [
    "value_widget_box = VBox([Label(\"Model Variables\"),])\n",
    "def select_vars_to_set(prob):\n",
    "    tree = Tree(stripes=True, multiple_selection=True)\n",
    "    system_iter(prob.model, tree)\n",
    "    tree.observe(on_selected_change, names='selected_nodes')\n",
    "    widget = HBox([tree, value_widget_box])\n",
    "    return widget"
   ]
  },
  {
   "cell_type": "code",
   "execution_count": 20,
   "metadata": {},
   "outputs": [
    {
     "data": {
      "application/vnd.jupyter.widget-view+json": {
       "model_id": "deb517976e224007ad762ce2d8bb77fa",
       "version_major": 2,
       "version_minor": 0
      },
      "text/plain": [
       "HBox(children=(Tree(nodes=(Node(name='root', nodes=(Node(name='cycle', nodes=(Node(name='d1', nodes=(Node(name…"
      ]
     },
     "metadata": {},
     "output_type": "display_data"
    }
   ],
   "source": [
    "select_vars_to_set(prob)"
   ]
  },
  {
   "cell_type": "code",
   "execution_count": 27,
   "metadata": {},
   "outputs": [],
   "source": [
    "set_model_vars(prob,value_widget_box)"
   ]
  },
  {
   "cell_type": "code",
   "execution_count": 29,
   "metadata": {},
   "outputs": [
    {
     "data": {
      "text/plain": [
       "array([200.])"
      ]
     },
     "execution_count": 29,
     "metadata": {},
     "output_type": "execute_result"
    }
   ],
   "source": [
    "prob['y2']"
   ]
  },
  {
   "cell_type": "code",
   "execution_count": null,
   "metadata": {},
   "outputs": [],
   "source": []
  }
 ],
 "metadata": {
  "kernelspec": {
   "display_name": "Python [conda env:py38mpi4] *",
   "language": "python",
   "name": "conda-env-py38mpi4-py"
  },
  "language_info": {
   "codemirror_mode": {
    "name": "ipython",
    "version": 3
   },
   "file_extension": ".py",
   "mimetype": "text/x-python",
   "name": "python",
   "nbconvert_exporter": "python",
   "pygments_lexer": "ipython3",
   "version": "3.8.5"
  }
 },
 "nbformat": 4,
 "nbformat_minor": 4
}
