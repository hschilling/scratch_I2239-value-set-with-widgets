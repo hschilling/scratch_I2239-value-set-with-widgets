{
 "cells": [
  {
   "cell_type": "code",
   "execution_count": 7,
   "metadata": {},
   "outputs": [
    {
     "data": {
      "application/vnd.jupyter.widget-view+json": {
       "model_id": "6d824b9ab289407998060b52dc00ee58",
       "version_major": 2,
       "version_minor": 0
      },
      "text/plain": [
       "Tree(multiple_selection=False, nodes=(Node(name='node1'), Node(name='node2')))"
      ]
     },
     "metadata": {},
     "output_type": "display_data"
    }
   ],
   "source": [
    "from ipytree import Tree, Node\n",
    "from ipywidgets import Button, Label, FloatText, HBox, VBox, Text, Output, Layout\n",
    "from ipywidgets import interact, interactive, fixed, interact_manual\n",
    "import ipywidgets as widgets\n",
    "\n",
    "tree = Tree(stripes=True, multiple_selection=False)\n",
    "node1 = Node('node1')\n",
    "node2 = Node('node2')\n",
    "tree.add_node(node1)\n",
    "tree.add_node(node2)\n",
    "tree"
   ]
  },
  {
   "cell_type": "code",
   "execution_count": null,
   "metadata": {},
   "outputs": [],
   "source": []
  }
 ],
 "metadata": {
  "kernelspec": {
   "display_name": "Python [conda env:py38mpi4] *",
   "language": "python",
   "name": "conda-env-py38mpi4-py"
  },
  "language_info": {
   "codemirror_mode": {
    "name": "ipython",
    "version": 3
   },
   "file_extension": ".py",
   "mimetype": "text/x-python",
   "name": "python",
   "nbconvert_exporter": "python",
   "pygments_lexer": "ipython3",
   "version": "3.8.5"
  }
 },
 "nbformat": 4,
 "nbformat_minor": 4
}
