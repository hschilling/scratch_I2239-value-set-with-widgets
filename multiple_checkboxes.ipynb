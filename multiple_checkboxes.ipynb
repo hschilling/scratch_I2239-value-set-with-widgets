{
 "cells": [
  {
   "cell_type": "code",
   "execution_count": 37,
   "metadata": {},
   "outputs": [],
   "source": [
    "import difflib\n",
    "import random\n",
    "import requests\n",
    "import ipywidgets as widgets\n",
    "from ipywidgets import Button, Label, FloatText, HBox, VBox, Text, Output, Layout\n",
    "from ipywidgets import interact, interactive, fixed, interact_manual\n",
    "import ipywidgets as widgets"
   ]
  },
  {
   "cell_type": "code",
   "execution_count": 32,
   "metadata": {},
   "outputs": [],
   "source": [
    "import openmdao.api as om\n",
    "\n",
    "\n",
    "class Paraboloid(om.ExplicitComponent):\n",
    "    \"\"\"\n",
    "    Evaluates the equation f(x,y) = (x-3)^2 + xy + (y+4)^2 - 3.\n",
    "    \"\"\"\n",
    "\n",
    "    def setup(self):\n",
    "        self.add_input('x', val=0.0)\n",
    "        self.add_input('y', val=0.0)\n",
    "\n",
    "        self.add_output('f_xy', val=0.0)\n",
    "\n",
    "    def setup_partials(self):\n",
    "        # Finite difference all partials.\n",
    "        self.declare_partials('*', '*', method='fd')\n",
    "\n",
    "    def compute(self, inputs, outputs):\n",
    "        \"\"\"\n",
    "        f(x,y) = (x-3)^2 + xy + (y+4)^2 - 3\n",
    "\n",
    "        Minimum at: x = 6.6667; y = -7.3333\n",
    "        \"\"\"\n",
    "        x = inputs['x']\n",
    "        y = inputs['y']\n",
    "\n",
    "        outputs['f_xy'] = (x - 3.0)**2 + x * y + (y + 4.0)**2 - 3.0\n",
    "\n",
    "\n",
    "if __name__ == \"__main__\":\n",
    "\n",
    "    # build the model\n",
    "    prob = om.Problem()\n",
    "    prob.model.add_subsystem('parab', Paraboloid(), promotes_inputs=['x', 'y'])\n",
    "\n",
    "    # define the component whose output will be constrained\n",
    "    prob.model.add_subsystem('const', om.ExecComp('g = x + y'), promotes_inputs=['x', 'y'])\n",
    "\n",
    "    # Design variables 'x' and 'y' span components, so we need to provide a common initial\n",
    "    # value for them.\n",
    "    prob.model.set_input_defaults('x', 3.0)\n",
    "    prob.model.set_input_defaults('y', -4.0)\n",
    "\n",
    "    # setup the optimization\n",
    "    prob.driver = om.ScipyOptimizeDriver()\n",
    "    prob.driver.options['optimizer'] = 'COBYLA'\n",
    "\n",
    "    prob.model.add_design_var('x', lower=-50, upper=50)\n",
    "    prob.model.add_design_var('y', lower=-50, upper=50)\n",
    "    prob.model.add_objective('parab.f_xy')\n",
    "\n",
    "    # to add the constraint to the model\n",
    "    prob.model.add_constraint('const.g', lower=0, upper=10.)\n",
    "\n",
    "    prob.setup()"
   ]
  },
  {
   "cell_type": "code",
   "execution_count": 142,
   "metadata": {},
   "outputs": [
    {
     "name": "stdout",
     "output_type": "stream",
     "text": [
      "11 Input(s) in 'model'\n",
      "\n",
      "varname   val  \n",
      "--------  -----\n",
      "cycle\n",
      "  d1\n",
      "    z     |0.0|\n",
      "  d2\n",
      "    z     |0.0|\n",
      "obj_cmp\n",
      "  z       |0.0|\n",
      "cycle\n",
      "  d1\n",
      "    x     [0.] \n",
      "obj_cmp\n",
      "  x       [0.] \n",
      "cycle\n",
      "  d1\n",
      "    y2    [1.] \n",
      "obj_cmp\n",
      "  y2      [1.] \n",
      "con_cmp2\n",
      "  y2      [1.] \n",
      "cycle\n",
      "  d2\n",
      "    y1    [1.] \n",
      "obj_cmp\n",
      "  y1      [1.] \n",
      "con_cmp1\n",
      "  y1      [1.] \n",
      "\n",
      "\n"
     ]
    },
    {
     "data": {
      "text/plain": [
       "dict_items([('cycle.d1.z', {'units': None, 'shape': (2,), 'size': 2, 'distributed': False, 'tags': set(), 'desc': '', 'shape_by_conn': False, 'copy_shape': None, 'has_src_indices': False, 'global_size': 2, 'global_shape': (2,), 'prom_name': 'z', 'discrete': True}), ('cycle.d2.z', {'units': None, 'shape': (2,), 'size': 2, 'distributed': False, 'tags': set(), 'desc': '', 'shape_by_conn': False, 'copy_shape': None, 'has_src_indices': False, 'global_size': 2, 'global_shape': (2,), 'prom_name': 'z', 'discrete': True}), ('cycle.d1.x', {'units': None, 'shape': (1,), 'size': 1, 'distributed': False, 'tags': set(), 'desc': '', 'shape_by_conn': False, 'copy_shape': None, 'has_src_indices': False, 'global_size': 1, 'global_shape': (1,), 'prom_name': 'x', 'discrete': True}), ('cycle.d1.y2', {'units': None, 'shape': (1,), 'size': 1, 'distributed': False, 'tags': set(), 'desc': '', 'shape_by_conn': False, 'copy_shape': None, 'has_src_indices': False, 'global_size': 1, 'global_shape': (1,), 'prom_name': 'y2', 'discrete': True}), ('cycle.d2.y1', {'units': None, 'shape': (1,), 'size': 1, 'distributed': False, 'tags': set(), 'desc': '', 'shape_by_conn': False, 'copy_shape': None, 'has_src_indices': False, 'global_size': 1, 'global_shape': (1,), 'prom_name': 'y1', 'discrete': True}), ('obj_cmp.x', {'units': None, 'shape': (1,), 'size': 1, 'distributed': False, 'tags': set(), 'desc': '', 'shape_by_conn': False, 'copy_shape': None, 'has_src_indices': False, 'global_size': 1, 'global_shape': (1,), 'prom_name': 'x', 'discrete': True}), ('obj_cmp.y1', {'units': None, 'shape': (1,), 'size': 1, 'distributed': False, 'tags': set(), 'desc': '', 'shape_by_conn': False, 'copy_shape': None, 'has_src_indices': False, 'global_size': 1, 'global_shape': (1,), 'prom_name': 'y1', 'discrete': True}), ('obj_cmp.y2', {'units': None, 'shape': (1,), 'size': 1, 'distributed': False, 'tags': set(), 'desc': '', 'shape_by_conn': False, 'copy_shape': None, 'has_src_indices': False, 'global_size': 1, 'global_shape': (1,), 'prom_name': 'y2', 'discrete': True}), ('obj_cmp.z', {'units': None, 'shape': (2,), 'size': 2, 'distributed': False, 'tags': set(), 'desc': '', 'shape_by_conn': False, 'copy_shape': None, 'has_src_indices': False, 'global_size': 2, 'global_shape': (2,), 'prom_name': 'z', 'discrete': True}), ('con_cmp1.y1', {'units': None, 'shape': (1,), 'size': 1, 'distributed': False, 'tags': set(), 'desc': '', 'shape_by_conn': False, 'copy_shape': None, 'has_src_indices': False, 'global_size': 1, 'global_shape': (1,), 'prom_name': 'y1', 'discrete': True}), ('con_cmp2.y2', {'units': None, 'shape': (1,), 'size': 1, 'distributed': False, 'tags': set(), 'desc': '', 'shape_by_conn': False, 'copy_shape': None, 'has_src_indices': False, 'global_size': 1, 'global_shape': (1,), 'prom_name': 'y2', 'discrete': True}), ('cycle.d1.y1', {'units': None, 'shape': (1,), 'size': 1, 'desc': '', 'ref': 1.0, 'ref0': 0.0, 'res_ref': 1.0, 'distributed': False, 'lower': None, 'upper': None, 'tags': set(), 'shape_by_conn': False, 'copy_shape': None, 'global_size': 1, 'global_shape': (1,), 'prom_name': 'y1', 'discrete': True}), ('cycle.d2.y2', {'units': None, 'shape': (1,), 'size': 1, 'desc': '', 'ref': 1.0, 'ref0': 0.0, 'res_ref': 1.0, 'distributed': False, 'lower': None, 'upper': None, 'tags': set(), 'shape_by_conn': False, 'copy_shape': None, 'global_size': 1, 'global_shape': (1,), 'prom_name': 'y2', 'discrete': True}), ('obj_cmp.obj', {'units': None, 'shape': (1,), 'size': 1, 'desc': '', 'ref': 1.0, 'ref0': 0.0, 'res_ref': 1.0, 'distributed': False, 'lower': None, 'upper': None, 'tags': set(), 'shape_by_conn': False, 'copy_shape': None, 'global_size': 1, 'global_shape': (1,), 'prom_name': 'obj', 'discrete': True}), ('con_cmp1.con1', {'units': None, 'shape': (1,), 'size': 1, 'desc': '', 'ref': 1.0, 'ref0': 0.0, 'res_ref': 1.0, 'distributed': False, 'lower': None, 'upper': None, 'tags': set(), 'shape_by_conn': False, 'copy_shape': None, 'global_size': 1, 'global_shape': (1,), 'prom_name': 'con1', 'discrete': True}), ('con_cmp2.con2', {'units': None, 'shape': (1,), 'size': 1, 'desc': '', 'ref': 1.0, 'ref0': 0.0, 'res_ref': 1.0, 'distributed': False, 'lower': None, 'upper': None, 'tags': set(), 'shape_by_conn': False, 'copy_shape': None, 'global_size': 1, 'global_shape': (1,), 'prom_name': 'con2', 'discrete': True}), ('_auto_ivc.v0', {'units': None, 'shape': (2,), 'size': 2, 'desc': '', 'ref': 1.0, 'ref0': 0.0, 'res_ref': 1.0, 'distributed': False, 'lower': None, 'upper': None, 'tags': set(), 'shape_by_conn': False, 'copy_shape': None, 'global_size': 2, 'global_shape': (2,), 'prom_name': '_auto_ivc.v0', 'discrete': True}), ('_auto_ivc.v1', {'units': None, 'shape': (1,), 'size': 1, 'desc': '', 'ref': 1.0, 'ref0': 0.0, 'res_ref': 1.0, 'distributed': False, 'lower': None, 'upper': None, 'tags': set(), 'shape_by_conn': False, 'copy_shape': None, 'global_size': 1, 'global_shape': (1,), 'prom_name': '_auto_ivc.v1', 'discrete': True})])"
      ]
     },
     "execution_count": 142,
     "metadata": {},
     "output_type": "execute_result"
    }
   ],
   "source": [
    "from openmdao.test_suite.components.sellar_feature import SellarMDA\n",
    "prob = om.Problem()\n",
    "prob.model = SellarMDA()\n",
    "prob.driver = om.ScipyOptimizeDriver(optimizer='SLSQP', tol=1e-8)\n",
    "\n",
    "prob.model.add_design_var('x', lower=0, upper=10)\n",
    "prob.model.add_design_var('z', lower=0, upper=10)\n",
    "prob.model.add_objective('obj')\n",
    "prob.model.add_constraint('con1', upper=0)\n",
    "prob.model.add_constraint('con2', upper=0)\n",
    "\n",
    "# Ask OpenMDAO to finite-difference across the model to compute the gradients for the optimizer\n",
    "prob.model.approx_totals()\n",
    "\n",
    "prob.setup()\n",
    "\n",
    "prob.model.list_inputs()\n",
    "\n",
    "prob.model.get_io_metadata().items()"
   ]
  },
  {
   "cell_type": "code",
   "execution_count": 143,
   "metadata": {},
   "outputs": [
    {
     "name": "stdout",
     "output_type": "stream",
     "text": [
      "['cycle.d1.z', 'cycle.d2.z', 'cycle.d1.x', 'cycle.d1.y2', 'cycle.d2.y1', 'obj_cmp.x', 'obj_cmp.y1', 'obj_cmp.y2', 'obj_cmp.z', 'con_cmp1.y1', 'con_cmp2.y2', 'cycle.d1.y1', 'cycle.d2.y2', 'obj_cmp.obj', 'con_cmp1.con1', 'con_cmp2.con2', '_auto_ivc.v0', '_auto_ivc.v1']\n"
     ]
    },
    {
     "data": {
      "application/vnd.jupyter.widget-view+json": {
       "model_id": "51ad48072b824a629f4fce92038c3e7f",
       "version_major": 2,
       "version_minor": 0
      },
      "text/plain": [
       "VBox(children=(Text(value=''), VBox(children=(HBox(children=(Checkbox(value=False, description='cycle.d1.z', i…"
      ]
     },
     "metadata": {},
     "output_type": "display_data"
    },
    {
     "name": "stdout",
     "output_type": "stream",
     "text": [
      "['obj_cmp.x', 'obj_cmp.y1', 'obj_cmp.y2', 'obj_cmp.z', 'con_cmp1.y1', 'con_cmp2.y2', 'obj_cmp.obj', 'con_cmp1.con1', 'con_cmp2.con2', '_auto_ivc.v0', '_auto_ivc.v1']\n",
      "['obj_cmp.x', 'obj_cmp.y1', 'obj_cmp.y2', 'obj_cmp.z', 'obj_cmp.obj']\n",
      "['obj_cmp.x', 'obj_cmp.y1', 'obj_cmp.y2', 'obj_cmp.z', 'obj_cmp.obj']\n",
      "['obj_cmp.x', 'obj_cmp.y1', 'obj_cmp.y2', 'obj_cmp.z', 'obj_cmp.obj']\n",
      "['obj_cmp.x', 'obj_cmp.y1', 'obj_cmp.y2', 'obj_cmp.z', 'con_cmp1.y1', 'con_cmp2.y2', 'obj_cmp.obj', 'con_cmp1.con1', 'con_cmp2.con2', '_auto_ivc.v0', '_auto_ivc.v1']\n",
      "['_auto_ivc.v0', '_auto_ivc.v1']\n",
      "['_auto_ivc.v0', '_auto_ivc.v1']\n",
      "['_auto_ivc.v0', '_auto_ivc.v1']\n"
     ]
    }
   ],
   "source": [
    "def multi_checkbox_widget(descriptions):\n",
    "    \"\"\" Widget with a search field and lots of checkboxes \"\"\"\n",
    "    search_widget = widgets.Text()\n",
    "    \n",
    "#     options_dict = {description: widgets.Checkbox(description=description, value=False, indent=False,\n",
    "#                                                  ) for description in descriptions}\n",
    "#     options = [HBox([options_dict[description],], layout = Layout(margin='1000px 100px 100px 1000px;')) \n",
    "#                for description in descriptions]\n",
    "    \n",
    "    options_dict = {}\n",
    "    options = []\n",
    "    for description in descriptions:\n",
    "            cb1 = widgets.Checkbox(description=description, value=False, indent=False)\n",
    "            indent = 50 * description.count('.')\n",
    "            box1 = HBox([cb1,], layout=Layout(margin=f'0 0 0 {indent}px'))\n",
    "            options.append(box1)\n",
    "            \n",
    "            options_dict[description] = box1\n",
    "            \n",
    "    options = [options_dict[description] for description in descriptions]\n",
    "    \n",
    "    \n",
    "    options_widget = widgets.VBox(options)\n",
    "\n",
    "    \n",
    "\n",
    "\n",
    "    multi_select = widgets.VBox([search_widget, options_widget])\n",
    "#     options_widget = widgets.VBox(options, \n",
    "#                                   layout={'overflow': 'scroll', 'padding': '0px 0px 0px 1000px;', 'width':'auto'})\n",
    "#     multi_select = widgets.VBox([search_widget, options_widget], \n",
    "#                                 layout={'overflow': 'scroll', 'padding': '0px 0px 0px 1000px;', 'width':'70%'})\n",
    "\n",
    "    # Wire the search field to the checkboxes\n",
    "    def on_text_change(change):\n",
    "        search_input = change['new']\n",
    "        if search_input == '':\n",
    "            # Reset search field\n",
    "            new_options = [options_dict[description] for description in descriptions]\n",
    "        else:\n",
    "            # Filter by search field using difflib.\n",
    "#             close_matches = difflib.get_close_matches(search_input, descriptions, cutoff=0.5)\n",
    "            close_matches = [description for description in descriptions if search_input in description]\n",
    "            print(close_matches)\n",
    "            new_options = [options_dict[description] for description in close_matches]\n",
    "        options_widget.children = new_options\n",
    "\n",
    "    search_widget.observe(on_text_change, names='value')\n",
    "    return multi_select\n",
    "\n",
    "# Example of using the widget\n",
    "\n",
    "# meta = prob.model.get_io_metadata(('input',))\n",
    "# meta = prob.model.get_io_metadata(iotypes=[\"output\"] , includes='y')\n",
    "# iotypes=[\"output\"]\n",
    "# meta = {opts['prom_name']: opts for (_, opts) in prob.model.get_io_metadata(iotypes=[\"input\"]).items()}\n",
    "# meta = {opts['prom_name']: opts for (_, opts) in prob.model.get_io_metadata(iotypes=[\"input\"]).items()}\n",
    "# meta = {opts['prom_name']: opts for (_, opts) in prob.model.get_io_metadata().items()}\n",
    "varnames = list(meta.keys())\n",
    "varnames = [ fullnames for (fullnames, opts) in prob.model.get_io_metadata().items()]\n",
    "\n",
    "print(varnames)\n",
    "widget = multi_checkbox_widget(varnames)\n",
    "widget"
   ]
  },
  {
   "cell_type": "code",
   "execution_count": 10,
   "metadata": {},
   "outputs": [
    {
     "data": {
      "text/plain": [
       "['dog', 'sheep']"
      ]
     },
     "execution_count": 10,
     "metadata": {},
     "output_type": "execute_result"
    }
   ],
   "source": [
    "selected_options = [w.description for w in widget.children[1].children if w.value]\n",
    "selected_options"
   ]
  },
  {
   "cell_type": "code",
   "execution_count": 98,
   "metadata": {},
   "outputs": [
    {
     "data": {
      "application/vnd.jupyter.widget-view+json": {
       "model_id": "14438405ead64875aed473d8e5963f26",
       "version_major": 2,
       "version_minor": 0
      },
      "text/plain": [
       "VBox(children=(HBox(children=(Label(value='00', layout=Layout(margin='0 0 0 100px')), Label(value='10', layout…"
      ]
     },
     "metadata": {},
     "output_type": "display_data"
    }
   ],
   "source": [
    "from ipywidgets import HBox, Layout, VBox\n",
    "# description=description, value=False, indent=False\n",
    "items = [HBox([Label(f'{i}{j}', layout=Layout(margin='0 0 0 100px')) for i in range(4)]) for j in range(4)]\n",
    "# items = [HBox([widgets.Checkbox(description='gleep', value=False, indent=False, layout=Layout(margin='0 0 0 0px')) for i in range(4)]) for j in range(4)]\n",
    "box = VBox(items, layout=Layout(margin='0 0 0 0px'))\n",
    "box"
   ]
  },
  {
   "cell_type": "code",
   "execution_count": 88,
   "metadata": {},
   "outputs": [
    {
     "data": {
      "application/vnd.jupyter.widget-view+json": {
       "model_id": "957e6ce0ab994318ae7dbaea90daae2b",
       "version_major": 2,
       "version_minor": 0
      },
      "text/plain": [
       "Checkbox(value=True, description='gleep', disabled=True, layout=Layout(width='30px'))"
      ]
     },
     "metadata": {},
     "output_type": "display_data"
    }
   ],
   "source": [
    "from ipywidgets import widgets, Layout\n",
    "from IPython.display import display\n",
    "\n",
    "checkbox = widgets.Checkbox(value=True, disabled=True, description='gleep', layout=Layout(width='30px'))\n",
    "# label = widgets.Label('description', layout=Layout(width='500px', margin='6px 0 0 0px'))\n",
    "# box = widgets.HBox([checkbox, label])\n",
    "# box = widgets.VBox([checkbox,])\n",
    "# display(box)\n",
    "checkbox"
   ]
  },
  {
   "cell_type": "code",
   "execution_count": 106,
   "metadata": {},
   "outputs": [
    {
     "data": {
      "application/vnd.jupyter.widget-view+json": {
       "model_id": "02434aa8b1a5451d8afc5bd5368d9d21",
       "version_major": 2,
       "version_minor": 0
      },
      "text/plain": [
       "VBox(children=(Checkbox(value=False, description='gleep', indent=False), Checkbox(value=False, description='gl…"
      ]
     },
     "metadata": {},
     "output_type": "display_data"
    }
   ],
   "source": [
    "# works!!\n",
    "from ipywidgets import HBox, Layout, VBox\n",
    "cb1 = widgets.Checkbox(description='gleep', value=False, indent=False)\n",
    "cb2 = widgets.Checkbox(description='gloop', value=False, indent=False)\n",
    "box = VBox([cb1, cb2], layout=Layout(margin='0 0 0 100px'))\n",
    "box"
   ]
  },
  {
   "cell_type": "code",
   "execution_count": 115,
   "metadata": {},
   "outputs": [
    {
     "data": {
      "application/vnd.jupyter.widget-view+json": {
       "model_id": "f46fa1cc2eb94c0dbf584e9cf7359b75",
       "version_major": 2,
       "version_minor": 0
      },
      "text/plain": [
       "VBox(children=(HBox(children=(Checkbox(value=False, description='gleep', indent=False),), layout=Layout(margin…"
      ]
     },
     "metadata": {},
     "output_type": "display_data"
    }
   ],
   "source": [
    "from ipywidgets import HBox, Layout, VBox\n",
    "cb1 = widgets.Checkbox(description='gleep', value=False, indent=False)\n",
    "box1 = HBox([cb1,], layout=Layout(margin='0 0 0 100px'))\n",
    "cb2 = widgets.Checkbox(description='gloop', value=False, indent=False)\n",
    "box2 = HBox([cb1,], layout=Layout(margin='0 0 0 0px'))\n",
    "box = VBox([box1, box2], layout=Layout(margin='0 0 0 0px'))\n",
    "box"
   ]
  },
  {
   "cell_type": "code",
   "execution_count": 151,
   "metadata": {},
   "outputs": [
    {
     "name": "stdout",
     "output_type": "stream",
     "text": [
      "<class 'list'>\n",
      "['x', 'y', '_auto_ivc.v0']\n",
      "z\n",
      "x\n",
      "y2\n",
      "y1\n",
      "obj\n",
      "con1\n",
      "con2\n",
      "_auto_ivc.v0\n",
      "_auto_ivc.v1\n"
     ]
    },
    {
     "data": {
      "application/vnd.jupyter.widget-view+json": {
       "model_id": "cd2c25a412494378a1ecd72ee5e412cd",
       "version_major": 2,
       "version_minor": 0
      },
      "text/plain": [
       "VBox(children=(HBox(children=(Button(description='Run model', style=ButtonStyle()), Button(description='Run dr…"
      ]
     },
     "metadata": {},
     "output_type": "display_data"
    }
   ],
   "source": [
    "def om_interact(prob, vars=None):\n",
    "    rows = []\n",
    "    meta = prob.model.get_io_metadata()\n",
    "    meta = {opts['prom_name']: opts for (_, opts) in prob.model.get_io_metadata().items()}\n",
    "    output = Output()\n",
    "\n",
    "    @output.capture()\n",
    "    def handle_value_change(change):\n",
    "        print(change)\n",
    "        val = change['new']\n",
    "        target = change['owner'].description\n",
    "        prob.set_val(target, val)\n",
    "        print(f'set {target} to {val}')\n",
    "\n",
    "    for varname, options in meta.items():\n",
    "        print(varname)\n",
    "        if varname in vars:\n",
    "            desc = options['desc']\n",
    "            units = options['units']\n",
    "            val = prob.get_val(varname, units=units)\n",
    "            input_box = FloatText(val, description=varname)\n",
    "            input_box.observe(handle_value_change, names='value')\n",
    "#             row = [Label(varname), input_box, Label(options['units'])]\n",
    "            row = [ input_box, Label(options['units'])]\n",
    "            rows.append(HBox(row))\n",
    "\n",
    "    @output.capture()\n",
    "    def run_handler(change):\n",
    "        output.clear_output()\n",
    "        if change.description == 'Run driver':\n",
    "            print('Running driver')\n",
    "            prob.run_driver()\n",
    "            prob.list_problem_vars()\n",
    "        elif change.description == 'Run model':\n",
    "            print('Running model')\n",
    "            prob.run_model()\n",
    "            prob.model.list_outputs()\n",
    "        else:\n",
    "            raise ValueError('Unhandled button: ', change.description)\n",
    "\n",
    "    run_driver_button = Button(description='Run driver')\n",
    "    run_driver_button.on_click(run_handler)\n",
    "\n",
    "    run_model_button = Button(description='Run model')\n",
    "    run_model_button.on_click(run_handler)\n",
    "\n",
    "    rows.append(HBox([run_model_button, run_driver_button]))\n",
    "\n",
    "    rows.append(output)\n",
    "\n",
    "    return VBox(rows)\n",
    "\n",
    "print(type(selected_options))\n",
    "print(selected_options)\n",
    "# selected_options = [w.description for w in widget.children[1].children if w.value]\n",
    "selected_options = [w.description for w in widget.children[1].children[0].children if w.value]\n",
    "\n",
    "om_interact(prob, vars=selected_options)\n",
    "# om_interact(prob, vars=['dog', 'y'])"
   ]
  },
  {
   "cell_type": "code",
   "execution_count": 1,
   "metadata": {},
   "outputs": [
    {
     "data": {
      "application/vnd.jupyter.widget-view+json": {
       "model_id": "d02d7d307a3244a0a896f8bc81ee3268",
       "version_major": 2,
       "version_minor": 0
      },
      "text/plain": [
       "Tree(nodes=(Node(name='node1'),))"
      ]
     },
     "metadata": {},
     "output_type": "display_data"
    }
   ],
   "source": [
    "## Try ipytree   https://coderzcolumn.com/tutorials/python/tree-widget-in-jupyter-notebook-using-ipytree-ipywidgets\n",
    "from ipytree import Tree, Node\n",
    "\n",
    "tree = Tree(stripes=True)\n",
    "node1 = Node('node1')\n",
    "tree.add_node(node1)\n",
    "tree"
   ]
  },
  {
   "cell_type": "code",
   "execution_count": null,
   "metadata": {},
   "outputs": [],
   "source": [
    "def multi_checkbox_widget_old(descriptions):\n",
    "    \"\"\" Widget with a search field and lots of checkboxes \"\"\"\n",
    "    search_widget = widgets.Text()\n",
    "    \n",
    "    align_kw = dict(\n",
    "#         _css = (('.widget-label', 'min-width', '20ex'),),\n",
    "        margin = '100px 0px 5px 112px'\n",
    "    )\n",
    "#     options_dict = {description: widgets.Checkbox(description=description, value=False, indent=False, **align_kw,\n",
    "# #                                                   margin = '100px 0px 5px 12px',\n",
    "# #                                                   layout = Layout(\n",
    "# #                                                       border='solid 4px',\n",
    "# #                                                       padding='100px 0px 0px 1000px;',\n",
    "# #                                                       margin='1000px 100px 100px 1000px;',\n",
    "# #                                                       width='auto',\n",
    "# #                                                   )\n",
    "#                                                  ) for description in descriptions}\n",
    "    options_dict = {description: widgets.Checkbox(description=description, value=False, indent=False, **align_kw,\n",
    "#                                                   margin = '100px 0px 5px 12px',\n",
    "#                                                   layout = Layout(\n",
    "#                                                       border='solid 4px',\n",
    "#                                                       padding='100px 0px 0px 1000px;',\n",
    "#                                                       margin='1000px 100px 100px 1000px;',\n",
    "#                                                       width='auto',\n",
    "#                                                   )\n",
    "                                                 ) for description in descriptions}\n",
    "    print(options_dict)\n",
    "    options = [HBox([options_dict[description],], layout = Layout(margin='1000px 100px 100px 1000px;')) for description in descriptions]\n",
    "    options_widget = widgets.VBox(options, layout={'overflow': 'scroll', 'padding': '0px 0px 0px 1000px;', 'width':'auto'})\n",
    "    multi_select = widgets.VBox([search_widget, options_widget], \n",
    "                                layout={'overflow': 'scroll', 'padding': '0px 0px 0px 1000px;', 'width':'70%'})\n",
    "\n",
    "    # Wire the search field to the checkboxes\n",
    "    def on_text_change(change):\n",
    "        search_input = change['new']\n",
    "        if search_input == '':\n",
    "            # Reset search field\n",
    "            new_options = [options_dict[description] for description in descriptions]\n",
    "        else:\n",
    "            # Filter by search field using difflib.\n",
    "#             close_matches = difflib.get_close_matches(search_input, descriptions, cutoff=0.5)\n",
    "            close_matches = [description for description in descriptions if search_input in description]\n",
    "            print(close_matches)\n",
    "            new_options = [options_dict[description] for description in close_matches]\n",
    "        options_widget.children = new_options\n",
    "\n",
    "    search_widget.observe(on_text_change, names='value')\n",
    "    return multi_select\n",
    "\n",
    "# Example of using the widget\n",
    "\n",
    "# Get lots of words for our options\n",
    "# words_url = 'https://svnweb.freebsd.org/csrg/share/dict/words?view=co&content-type=text/plain'\n",
    "# response = requests.get(words_url)\n",
    "# response.raise_for_status()\n",
    "# words = response.text\n",
    "# words = set([word.lower() for word in words.splitlines()])\n",
    "words = ['dog', 'cat', 'sheep']\n",
    "# descriptions = random.sample(words, 100)\n",
    "\n",
    "meta = prob.model.get_io_metadata()\n",
    "meta = {opts['prom_name']: opts for (_, opts) in prob.model.get_io_metadata().items()}\n",
    "varnames = list(meta.keys())\n",
    "# for varname, options in meta.items():\n",
    "\n",
    "# print(varnames)\n",
    "\n",
    "# # multi_checkbox_widget(descriptions)\n",
    "widget = multi_checkbox_widget(varnames)\n",
    "widget"
   ]
  }
 ],
 "metadata": {
  "kernelspec": {
   "display_name": "Python [conda env:py38mpi4] *",
   "language": "python",
   "name": "conda-env-py38mpi4-py"
  },
  "language_info": {
   "codemirror_mode": {
    "name": "ipython",
    "version": 3
   },
   "file_extension": ".py",
   "mimetype": "text/x-python",
   "name": "python",
   "nbconvert_exporter": "python",
   "pygments_lexer": "ipython3",
   "version": "3.8.5"
  }
 },
 "nbformat": 4,
 "nbformat_minor": 4
}
